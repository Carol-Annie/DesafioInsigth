{
 "cells": [
  {
   "cell_type": "code",
   "execution_count": 1,
   "metadata": {},
   "outputs": [],
   "source": [
    "import pandas as pd"
   ]
  },
  {
   "cell_type": "code",
   "execution_count": 2,
   "metadata": {},
   "outputs": [],
   "source": [
    "#Abrindo o arquivo\n",
    "df = pd.read_excel(r'RelatorioDePublicacoes-_01_Abr_2020a09_Abr_2020.xlsx')"
   ]
  },
  {
   "cell_type": "code",
   "execution_count": 3,
   "metadata": {},
   "outputs": [],
   "source": [
    "#Eliminação de algumas colunas, deixando apenas as colunas Conteúdo e Temas\n",
    "df = df.drop('Ordem',axis=1)"
   ]
  },
  {
   "cell_type": "code",
   "execution_count": 4,
   "metadata": {},
   "outputs": [],
   "source": [
    "df = df.drop('Canal',axis=1)"
   ]
  },
  {
   "cell_type": "code",
   "execution_count": 5,
   "metadata": {},
   "outputs": [],
   "source": [
    "df = df.drop('Mídia',axis=1)"
   ]
  },
  {
   "cell_type": "code",
   "execution_count": 6,
   "metadata": {},
   "outputs": [],
   "source": [
    "df = df.drop('Link',axis=1)"
   ]
  },
  {
   "cell_type": "code",
   "execution_count": 7,
   "metadata": {},
   "outputs": [],
   "source": [
    "df = df.drop('Data',axis=1)"
   ]
  },
  {
   "cell_type": "code",
   "execution_count": 8,
   "metadata": {},
   "outputs": [],
   "source": [
    "df = df.drop('Autor ID',axis=1)"
   ]
  },
  {
   "cell_type": "code",
   "execution_count": 9,
   "metadata": {},
   "outputs": [],
   "source": [
    "df = df.drop('Autor Nome',axis=1)"
   ]
  },
  {
   "cell_type": "code",
   "execution_count": 10,
   "metadata": {},
   "outputs": [],
   "source": [
    "df = df.drop('Autor Link',axis=1)"
   ]
  },
  {
   "cell_type": "code",
   "execution_count": 11,
   "metadata": {},
   "outputs": [],
   "source": [
    "df = df.drop('Autor Imagem',axis=1)"
   ]
  },
  {
   "cell_type": "code",
   "execution_count": 12,
   "metadata": {},
   "outputs": [],
   "source": [
    "df = df.drop('Seguidores/Inscritos',axis=1)"
   ]
  },
  {
   "cell_type": "code",
   "execution_count": 13,
   "metadata": {},
   "outputs": [],
   "source": [
    "df = df.drop('Título',axis=1)"
   ]
  },
  {
   "cell_type": "code",
   "execution_count": 14,
   "metadata": {},
   "outputs": [],
   "source": [
    "df = df.drop('ID',axis=1)"
   ]
  },
  {
   "cell_type": "code",
   "execution_count": 15,
   "metadata": {},
   "outputs": [],
   "source": [
    "df = df.drop('Polaridade',axis=1)"
   ]
  },
  {
   "cell_type": "code",
   "execution_count": 16,
   "metadata": {},
   "outputs": [],
   "source": [
    "df = df.drop('Genero',axis=1)"
   ]
  },
  {
   "cell_type": "code",
   "execution_count": 17,
   "metadata": {},
   "outputs": [],
   "source": [
    "df = df.drop('Compartilhamentos',axis=1)"
   ]
  },
  {
   "cell_type": "code",
   "execution_count": 18,
   "metadata": {},
   "outputs": [],
   "source": [
    "df = df.drop('Imagem',axis=1)"
   ]
  },
  {
   "cell_type": "code",
   "execution_count": 19,
   "metadata": {},
   "outputs": [],
   "source": [
    "df = df.drop('Grupos',axis=1)"
   ]
  },
  {
   "cell_type": "code",
   "execution_count": 20,
   "metadata": {},
   "outputs": [],
   "source": [
    "df = df.drop('Polaridade dos Grupos',axis=1)"
   ]
  },
  {
   "cell_type": "code",
   "execution_count": 21,
   "metadata": {},
   "outputs": [],
   "source": [
    "df = df.drop('Tags',axis=1)"
   ]
  },
  {
   "cell_type": "code",
   "execution_count": 22,
   "metadata": {},
   "outputs": [],
   "source": [
    "df = df.drop('Página',axis=1)"
   ]
  },
  {
   "cell_type": "code",
   "execution_count": 23,
   "metadata": {},
   "outputs": [],
   "source": [
    "df = df.drop('Comentários',axis=1)"
   ]
  },
  {
   "cell_type": "code",
   "execution_count": 24,
   "metadata": {},
   "outputs": [],
   "source": [
    "df = df.drop('Curtidas/Gostei',axis=1)"
   ]
  },
  {
   "cell_type": "code",
   "execution_count": 26,
   "metadata": {},
   "outputs": [
    {
     "name": "stdout",
     "output_type": "stream",
     "text": [
      "range(0, 47210)\n"
     ]
    }
   ],
   "source": [
    "#BUSCA POR EXPRESSÕES REGULARES -> A PRINCIPAL É COR. SINTOMAS, E DESSA FORMA FILTRAR AS CONTEÚDOS SOBRE COVID\n",
    "df[df.Temas.str.contains(\"COR. Sintomas\", regex=False)] \n",
    "\n",
    "#COVERTENDO TODOS OS CARACTERES PARA STRING\n",
    "df['Conteúdo'] = df['Conteúdo'].astype(str)\n",
    "\n",
    "#SEPARAÇÃO DAS COLUNAS EM VARIAVIES\n",
    "textos = df['Conteúdo']\n",
    "#NECESSIDADE DE QUEBRAR OS TEXTOS EM PEDAÇOS PARA ANALISAR UM POR NÃO, NÃO COMO UM TODO\n",
    "textos_quebrados = textos.str.lower().str.split()\n",
    "#PALAVRAS EM UMA TABELA HASH\n",
    "palavras = set()\n",
    "#ANALISAR SE A PALAVRA, POR EXEMPLO COVID ESTÁ EM UM DOS PEDAÇOS DE STRING E ATUALIZAR CONJUNTO STRING.\n",
    "for palavra in textos_quebrados :\n",
    "    palavras.update(palavra)  \n",
    "    \n",
    "#CRIANDO INDICIES A PARTIR DO TAMANHO DO CONJ. DE PALAVRAS\n",
    "indices = range(len(palavras))\n",
    "print(indices)\n",
    "#JUNÇÃO DO INDICES E PALAVRAS\n",
    "tradutor = {palavra: indice for palavra, indice in zip(palavras,indices)}\n",
    "#UTILIZA AS PALAVRAS DO TRADUTOR E DEVOLVE UMA LISTA COM A CONTAGEM\n",
    "def vetorizar_textos(texto, tradutor):\n",
    "    #VETOR DO TAMANHO DO TRADUTOR\n",
    "    vetor_palavras = [0]*len(tradutor)\n",
    "    for palavra in texto:\n",
    "        #VERIFICAR SE AS PALAVRAS DO TEXTO ESTÃO NO TRADUTOR\n",
    "        if palavra in tradutor:\n",
    "            #SE ESTIVER PEGA A POSIÇÃO DA PALAVRA E INCREMENTA NO TRADUTOR\n",
    "            posicao = tradutor[palavra]\n",
    "            vetor_palavras[posicao] += 1\n",
    "    return vetor_palavras\n",
    "#VETORIZAÇÃO DOS COMENTARIOS USANDO O TRADUTOR\n",
    "vetores_de_texto = [vetorizar_textos(texto, tradutor) for texto in textos_quebrados]\n"
   ]
  },
  {
   "cell_type": "code",
   "execution_count": null,
   "metadata": {},
   "outputs": [],
   "source": []
  },
  {
   "cell_type": "code",
   "execution_count": null,
   "metadata": {},
   "outputs": [],
   "source": []
  }
 ],
 "metadata": {
  "kernelspec": {
   "display_name": "Python 3",
   "language": "python",
   "name": "python3"
  },
  "language_info": {
   "codemirror_mode": {
    "name": "ipython",
    "version": 3
   },
   "file_extension": ".py",
   "mimetype": "text/x-python",
   "name": "python",
   "nbconvert_exporter": "python",
   "pygments_lexer": "ipython3",
   "version": "3.8.5"
  }
 },
 "nbformat": 4,
 "nbformat_minor": 4
}
